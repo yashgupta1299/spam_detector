{
 "cells": [
  {
   "cell_type": "code",
   "execution_count": 1,
   "metadata": {},
   "outputs": [
    {
     "name": "stdout",
     "output_type": "stream",
     "text": [
      "2.10.0\n"
     ]
    }
   ],
   "source": [
    "import tensorflow as tf\n",
    "tf.config.set_visible_devices(tf.config.list_physical_devices('CPU'))\n",
    "\n",
    "from importlib import import_module\n",
    "import keras\n",
    "from keras.api._v2 import keras as KerasAPI\n",
    "keras: KerasAPI = import_module(\"tensorflow.keras\")\n",
    "print(tf.__version__)\n",
    "\n",
    "from keras import layers\n",
    "\n",
    "import numpy as np\n",
    "import matplotlib.pyplot as plt\n",
    "import pandas as pd\n",
    "from keras.utils import plot_model\n",
    "\n",
    "from sklearn.model_selection import train_test_split\n"
   ]
  },
  {
   "attachments": {},
   "cell_type": "markdown",
   "metadata": {},
   "source": [
    "### Preparing Data"
   ]
  },
  {
   "cell_type": "code",
   "execution_count": 2,
   "metadata": {},
   "outputs": [],
   "source": [
    "random_state_value = 42\n",
    "max_vocab_length = 10000\n",
    "max_length = 25"
   ]
  },
  {
   "cell_type": "code",
   "execution_count": 3,
   "metadata": {},
   "outputs": [
    {
     "data": {
      "text/plain": [
       "Index(['Category', 'Message', 'transformed_msg'], dtype='object')"
      ]
     },
     "execution_count": 3,
     "metadata": {},
     "output_type": "execute_result"
    }
   ],
   "source": [
    "df = pd.read_csv('data.csv')\n",
    "df.columns"
   ]
  },
  {
   "cell_type": "code",
   "execution_count": 4,
   "metadata": {},
   "outputs": [],
   "source": [
    "\n",
    "# train_X, test_X, train_Y, test_Y = train_test_split(df['Message'], df['Category'], test_size=0.2, random_state=random_state_value)\n",
    "train_X, test_X, train_Y, test_Y = train_test_split(df['transformed_msg'].astype(str), df['Category'], test_size=0.2, random_state=random_state_value)"
   ]
  },
  {
   "attachments": {},
   "cell_type": "markdown",
   "metadata": {},
   "source": [
    "### Words Length"
   ]
  },
  {
   "cell_type": "code",
   "execution_count": 5,
   "metadata": {},
   "outputs": [
    {
     "name": "stdout",
     "output_type": "stream",
     "text": [
      "8.693090909090909\n",
      "6.269917656235842\n"
     ]
    }
   ],
   "source": [
    "x = map(lambda x: len(x.split(' ')), train_X)\n",
    "x = np.array(list(x))\n",
    "print(x.mean())\n",
    "print(x.std())"
   ]
  },
  {
   "attachments": {},
   "cell_type": "markdown",
   "metadata": {},
   "source": [
    "### Vocabulary Size"
   ]
  },
  {
   "cell_type": "code",
   "execution_count": 6,
   "metadata": {},
   "outputs": [
    {
     "name": "stdout",
     "output_type": "stream",
     "text": [
      "The dataframe contains 5935 unique words.\n"
     ]
    }
   ],
   "source": [
    "# Split the text data into individual words\n",
    "df_word_list = train_X.str.split()\n",
    "\n",
    "# Create a set of unique words\n",
    "unique_words = set([word for sublist in df_word_list for word in sublist])\n",
    "\n",
    "# Count the number of unique words\n",
    "unique_word_count = len(unique_words)\n",
    "\n",
    "print(\"The dataframe contains\", unique_word_count, \"unique words.\")"
   ]
  },
  {
   "attachments": {},
   "cell_type": "markdown",
   "metadata": {},
   "source": [
    "### Vocabulary"
   ]
  },
  {
   "cell_type": "code",
   "execution_count": 7,
   "metadata": {},
   "outputs": [
    {
     "name": "stderr",
     "output_type": "stream",
     "text": [
      "2023-04-26 02:28:31.814609: W tensorflow/core/platform/profile_utils/cpu_utils.cc:128] Failed to get CPU frequency: 0 Hz\n"
     ]
    },
    {
     "data": {
      "text/plain": [
       "['', '[UNK]', 'u', 'call', 'go', '2', 'get', 'ur', 'come', 'gt']"
      ]
     },
     "execution_count": 7,
     "metadata": {},
     "output_type": "execute_result"
    }
   ],
   "source": [
    "text_vectorizer = keras.layers.TextVectorization(max_tokens=max_vocab_length,\n",
    "                                    output_mode=\"int\",\n",
    "                                    output_sequence_length=max_length)\n",
    "text_vectorizer.adapt(train_X)\n",
    "text_vectorizer.get_vocabulary()[:10]"
   ]
  },
  {
   "cell_type": "code",
   "execution_count": 8,
   "metadata": {},
   "outputs": [],
   "source": [
    "early_stopping_cb = keras.callbacks.EarlyStopping(monitor='loss',\n",
    "                                                  patience=1,\n",
    "                                                  min_delta=1e-4,\n",
    "                                                  mode='min',\n",
    "                                                  restore_best_weights=False, \n",
    "                                                  verbose=1)\n",
    "\n",
    "checkpoint_callback = keras.callbacks.ModelCheckpoint('history/model',\n",
    "                                                         save_weights_only=True, # save only the model weights\n",
    "                                                         save_freq='epoch') # save the model weights which score the best validation accuracy) "
   ]
  },
  {
   "attachments": {},
   "cell_type": "markdown",
   "metadata": {},
   "source": [
    "### Callbacks"
   ]
  },
  {
   "cell_type": "code",
   "execution_count": 9,
   "metadata": {},
   "outputs": [],
   "source": [
    "early_stopping_cb = keras.callbacks.EarlyStopping(monitor='val_loss',\n",
    "                                                  patience=4,\n",
    "                                                  min_delta=1e-4,\n",
    "                                                  mode='min',\n",
    "                                                  restore_best_weights=True, \n",
    "                                                  verbose=1)\n",
    "\n",
    "checkpoint_callback = keras.callbacks.ModelCheckpoint('model',\n",
    "                                                         save_weights_only=True, # save only the model weights\n",
    "                                                         save_freq=\"epoch\") # save the model weights which score the best validation accuracy) "
   ]
  },
  {
   "attachments": {},
   "cell_type": "markdown",
   "metadata": {},
   "source": [
    "### Model Arch I"
   ]
  },
  {
   "cell_type": "code",
   "execution_count": 10,
   "metadata": {},
   "outputs": [],
   "source": [
    "# Set random seed and create embedding layer (new embedding layer for each model)\n",
    "tf.random.set_seed(42)\n",
    "model_1_embedding = layers.Embedding(input_dim=max_vocab_length,\n",
    "                                     output_dim=128,\n",
    "                                     embeddings_initializer=\"uniform\",\n",
    "                                     input_length=max_length,\n",
    "                                     name=\"embedding\")\n",
    "\n",
    "# Build an RNN using the GRU cell\n",
    "inputs = layers.Input(shape=(1,), dtype=\"string\")\n",
    "x = text_vectorizer(inputs)\n",
    "x = model_1_embedding(x)\n",
    "# x = layers.GRU(64, return_sequences=True) # stacking recurrent cells requires return_sequences=True\n",
    "x = layers.LSTM(64)(x) \n",
    "# x = layers.Dense(64, activation=\"relu\")(x) # optional dense layer after GRU cell\n",
    "outputs = layers.Dense(2, activation=\"sigmoid\")(x)\n",
    "outputs = layers.Dense(1, activation=\"sigmoid\")(x)\n",
    "model_1 = keras.Model(inputs, outputs, name=\"model_1\")"
   ]
  },
  {
   "cell_type": "code",
   "execution_count": 11,
   "metadata": {},
   "outputs": [
    {
     "name": "stdout",
     "output_type": "stream",
     "text": [
      "Model: \"model_1\"\n",
      "_________________________________________________________________\n",
      " Layer (type)                Output Shape              Param #   \n",
      "=================================================================\n",
      " input_1 (InputLayer)        [(None, 1)]               0         \n",
      "                                                                 \n",
      " text_vectorization (TextVec  (None, 25)               0         \n",
      " torization)                                                     \n",
      "                                                                 \n",
      " embedding (Embedding)       (None, 25, 128)           1280000   \n",
      "                                                                 \n",
      " lstm (LSTM)                 (None, 64)                49408     \n",
      "                                                                 \n",
      " dense_1 (Dense)             (None, 1)                 65        \n",
      "                                                                 \n",
      "=================================================================\n",
      "Total params: 1,329,473\n",
      "Trainable params: 1,329,473\n",
      "Non-trainable params: 0\n",
      "_________________________________________________________________\n"
     ]
    }
   ],
   "source": [
    "# Compile GRU model\n",
    "model_1.compile(loss=\"binary_crossentropy\",\n",
    "                optimizer=keras.optimizers.Adam(),\n",
    "                metrics=[\"accuracy\"])\n",
    "model_1.summary()"
   ]
  },
  {
   "cell_type": "code",
   "execution_count": 12,
   "metadata": {},
   "outputs": [
    {
     "name": "stdout",
     "output_type": "stream",
     "text": [
      "Epoch 1/10\n",
      "129/129 [==============================] - 3s 17ms/step - loss: 0.1857 - accuracy: 0.9362 - val_loss: 0.0528 - val_accuracy: 0.9855\n",
      "Epoch 2/10\n",
      "129/129 [==============================] - 2s 15ms/step - loss: 0.0354 - accuracy: 0.9918 - val_loss: 0.0416 - val_accuracy: 0.9893\n",
      "Epoch 3/10\n",
      "129/129 [==============================] - 2s 16ms/step - loss: 0.0127 - accuracy: 0.9968 - val_loss: 0.0682 - val_accuracy: 0.9845\n",
      "Epoch 4/10\n",
      "129/129 [==============================] - 2s 15ms/step - loss: 0.0144 - accuracy: 0.9961 - val_loss: 0.0748 - val_accuracy: 0.9845\n",
      "Epoch 5/10\n",
      "129/129 [==============================] - 2s 15ms/step - loss: 0.0048 - accuracy: 0.9993 - val_loss: 0.0671 - val_accuracy: 0.9855\n",
      "Epoch 6/10\n",
      "129/129 [==============================] - ETA: 0s - loss: 0.0041 - accuracy: 0.9995Restoring model weights from the end of the best epoch: 2.\n",
      "129/129 [==============================] - 2s 16ms/step - loss: 0.0041 - accuracy: 0.9995 - val_loss: 0.0735 - val_accuracy: 0.9864\n",
      "Epoch 6: early stopping\n"
     ]
    }
   ],
   "source": [
    "# Fit model\n",
    "model_3_history = model_1.fit(train_X,\n",
    "                              train_Y,\n",
    "                              epochs=10,\n",
    "                              validation_data=(test_X, test_Y),\n",
    "                              callbacks=[early_stopping_cb, checkpoint_callback])"
   ]
  },
  {
   "cell_type": "code",
   "execution_count": 13,
   "metadata": {},
   "outputs": [
    {
     "name": "stdout",
     "output_type": "stream",
     "text": [
      "33/33 [==============================] - 0s 3ms/step - loss: 0.0416 - accuracy: 0.9893\n"
     ]
    },
    {
     "data": {
      "text/plain": [
       "[0.041569653898477554, 0.9893410801887512]"
      ]
     },
     "execution_count": 13,
     "metadata": {},
     "output_type": "execute_result"
    }
   ],
   "source": [
    "model_1.evaluate(test_X, test_Y)"
   ]
  },
  {
   "cell_type": "code",
   "execution_count": 14,
   "metadata": {},
   "outputs": [
    {
     "data": {
      "image/png": "[encoded data removed]",
      "text/plain": [
       "<IPython.core.display.Image object>"
      ]
     },
     "execution_count": 14,
     "metadata": {},
     "output_type": "execute_result"
    }
   ],
   "source": [
    "plot_model(model_1, show_shapes=True, show_layer_activations=True, expand_nested=True)"
   ]
  }
 ],
 "metadata": {
  "kernelspec": {
   "display_name": "tf",
   "language": "python",
   "name": "python3"
  },
  "language_info": {
   "codemirror_mode": {
    "name": "ipython",
    "version": 3
   },
   "file_extension": ".py",
   "mimetype": "text/x-python",
   "name": "python",
   "nbconvert_exporter": "python",
   "pygments_lexer": "ipython3",
   "version": "3.10.11"
  },
  "orig_nbformat": 4
 },
 "nbformat": 4,
 "nbformat_minor": 2
}
